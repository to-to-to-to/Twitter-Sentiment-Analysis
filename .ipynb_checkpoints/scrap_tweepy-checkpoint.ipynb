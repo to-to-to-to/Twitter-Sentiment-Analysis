{
 "cells": [
  {
   "cell_type": "code",
   "execution_count": 1,
   "metadata": {},
   "outputs": [],
   "source": [
    "import tweepy"
   ]
  },
  {
   "cell_type": "code",
   "execution_count": 2,
   "metadata": {},
   "outputs": [],
   "source": [
    "api_key = \"k3HyeQmVjnkMdFyu6959ndFdu\"\n",
    "api_secret_key = \"04t0xLrrPjeAd2viQvZhAwG7XYNXHTWTRHFQM41V8If4mzVHCg\"\n",
    "access_token = \"2934930464-nX9oCDjVTY8WUISk4XL0tIhCR1B9AHoysPx2jJC\"\n",
    "access_token_secret = \"LcxQFZOxkl0lQ4Y6ryvxPhbQjD6fCRb2p0HURd6yekALv\""
   ]
  },
  {
   "cell_type": "code",
   "execution_count": 3,
   "metadata": {},
   "outputs": [],
   "source": [
    "auth = tweepy.OAuthHandler(api_key, api_secret_key)\n",
    "auth.set_access_token(access_token, access_token_secret)\n",
    "api = tweepy.API(auth)"
   ]
  },
  {
   "cell_type": "code",
   "execution_count": 5,
   "metadata": {},
   "outputs": [],
   "source": [
    "hasilUser = api.user_timeline(id = \"whoisvitoo\", count = 10)\n",
    "hasilSearch = api.search(q = \"SNMPTN\", lang = \"id\", count = 10)"
   ]
  },
  {
   "cell_type": "code",
   "execution_count": 6,
   "metadata": {},
   "outputs": [
    {
     "name": "stdout",
     "output_type": "stream",
     "text": [
      "@rosenoiree_ ketawan jelas bgt sih ini\n",
      "god bless you &amp; your family, sir. hats off. https://t.co/dYgRdz0Rhx\n",
      "yok bisa magang2 terus sama banyakin project\n",
      "gimana ini tahun ketiga belum ngapa2in @Thegr8khairul\n",
      "yah udah ada maba makin tua aja gue\n",
      "makin dipermudah aja ini gaperlu bikin plot satu2 pake matlpotlib. siapapun yg ciptain lux, thankyou bgt semoga mas… https://t.co/cotPsMr8gc\n",
      "@prrakoso belum apa2 itu so dibanding sama surbay\n",
      "@supbroww @liuetenant_fazi wah udah sulit ini mah cup\n",
      "@Thegr8khairul yuta watanabe mainnya ga di matraman bosss\n",
      "aneh bgt cuk main badminton di kos-kosan mentang2 owner @Thegr8khairul . btw pake dlu itu bh nya sekarang udh punya… https://t.co/vlHu8do4mp\n"
     ]
    }
   ],
   "source": [
    "for tweet in hasilUser:\n",
    "    print(tweet.text)"
   ]
  },
  {
   "cell_type": "code",
   "execution_count": 14,
   "metadata": {},
   "outputs": [
    {
     "name": "stdout",
     "output_type": "stream",
     "text": [
      "gigihadiguna : dulu gak ikut SNMPTN jadi gak pernah relate sama hidup saya, dulu ikutnya PTPN, ngumpulin tutup botol coca cola biar dapet fevernova....\n",
      "wonpiristoberi : @junheetwins Kamu keren banget aslii. Ketiduran aja bisa lolos loh. Kamu pinter pasti t____t\n",
      "\n",
      "Oh itu maksudku tuh a… https://t.co/2oO9siUbea\n",
      "fiki_bernandi : RT @muus__: @jawafess Gapopo gak lolos jalur snmptn ijeh iso lewat jalur pantura 😭\n",
      "briltnn : Fyp tiktok tntng snmptn terharu ih mewek😭😭😭\n",
      "rohedyadele : Lagi musim SNMPTN ya. Jadi kepikiran, sebenernya masih jadi hal yg tabu ga sih tiap dapet jawaban masuk fk, the ver… https://t.co/pAntgaDkqT\n",
      "MustMudz : RT @kenmiryam: 1976-1979: SKALU\n",
      "1979-1983: SKASU\n",
      "1983-1989: Sipenmaru\n",
      "1989-2001: UMPTN\n",
      "2001-2008: SPMB\n",
      "2008-2013: SNMPTN\n",
      "2013-sekarang: SBM…\n",
      "Jack__WoW : Ini banyak video reaksi lagi buka Pengumuman SNMPTN, apa itu SNMPTN haaaaaaaaaaaa 🤣\n",
      "uculno11 : @txtdaripelajar Baru bimbel seminggu semangat belajar meningkat, tau tau lulus snmptn dah, emang ditakdirkan rebahan\n",
      "lilbrowniesss : @nayutasource rata2 rapor kek snmptn\n",
      "deanuharatinu : Tim yang tidak pernah merasakan euforia lolos SNMPTN dan SBMPTN, hahaha\n"
     ]
    }
   ],
   "source": [
    "for tweet in hasilSearch:\n",
    "    print(tweet.user.screen_name, \":\", tweet.text)"
   ]
  },
  {
   "cell_type": "code",
   "execution_count": null,
   "metadata": {},
   "outputs": [],
   "source": []
  }
 ],
 "metadata": {
  "kernelspec": {
   "display_name": "Python 3",
   "language": "python",
   "name": "python3"
  },
  "language_info": {
   "codemirror_mode": {
    "name": "ipython",
    "version": 3
   },
   "file_extension": ".py",
   "mimetype": "text/x-python",
   "name": "python",
   "nbconvert_exporter": "python",
   "pygments_lexer": "ipython3",
   "version": "3.8.5"
  }
 },
 "nbformat": 4,
 "nbformat_minor": 4
}
